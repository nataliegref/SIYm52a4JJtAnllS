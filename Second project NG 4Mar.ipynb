{
 "cells": [
  {
   "cell_type": "markdown",
   "id": "24c1616f",
   "metadata": {},
   "source": [
    "# Project 2 \n",
    "## Goal(s):\n",
    "\n",
    "Predict if the customer will subscribe (yes/no) to a term deposit (variable y)\n",
    "\n",
    "## Success Metric(s):\n",
    "\n",
    "Hit %81 or above accuracy by evaluating with 5-fold cross validation and reporting the average performance score.\n",
    "\n",
    "## Bonus(es):\n",
    "\n",
    "We are also interested in finding customers who are more likely to buy the investment product. Determine the segment(s) of customers our client should prioritize.\n",
    "\n",
    "What makes the customers buy? Tell us which feature we should be focusing more on.\n",
    "\n",
    "Note: with help from https://www.kaggle.com/code/niklasdonges/end-to-end-project-with-python"
   ]
  },
  {
   "cell_type": "code",
   "execution_count": 178,
   "id": "468d8ab2",
   "metadata": {},
   "outputs": [],
   "source": [
    "# linear algebra\n",
    "import numpy as np \n",
    "\n",
    "# data processing\n",
    "import pandas as pd \n",
    "\n",
    "# data visualization\n",
    "import seaborn as sns\n",
    "%matplotlib inline\n",
    "from matplotlib import pyplot as plt\n",
    "from matplotlib import style\n",
    "\n",
    "# Algorithms\n",
    "from sklearn import linear_model\n",
    "from sklearn.linear_model import Perceptron\n",
    "from sklearn.linear_model import SGDClassifier\n",
    "from sklearn.svm import SVC, LinearSVC\n",
    "from sklearn.linear_model import LogisticRegression\n",
    "from sklearn.neighbors import KNeighborsClassifier\n",
    "from sklearn.tree import DecisionTreeClassifier\n",
    "from sklearn.ensemble import RandomForestClassifier\n",
    "from sklearn.ensemble import GradientBoostingClassifier\n",
    "from sklearn.naive_bayes import GaussianNB\n",
    "from sklearn.neural_network import MLPClassifier\n",
    "import xgboost as xgb\n",
    "\n",
    "\n",
    "#Cross validation\n",
    "from sklearn.model_selection import KFold, cross_val_score\n",
    "\n",
    "#Other\n",
    "from sklearn import metrics\n",
    "from sklearn.model_selection import train_test_split, GridSearchCV\n",
    "from sklearn.metrics import classification_report\n",
    "from sklearn.feature_selection import SelectKBest, chi2\n",
    "from sklearn.preprocessing import PolynomialFeatures\n",
    "from sklearn.preprocessing import StandardScaler\n",
    "from sklearn.metrics import accuracy_score\n"
   ]
  },
  {
   "cell_type": "markdown",
   "id": "c90b19c0",
   "metadata": {},
   "source": [
    "# Loading data"
   ]
  },
  {
   "cell_type": "code",
   "execution_count": 152,
   "id": "5de0a11d",
   "metadata": {},
   "outputs": [],
   "source": [
    "og_data = pd.read_csv('term-deposit-marketing-2020.csv')\n",
    "data = og_data"
   ]
  },
  {
   "cell_type": "code",
   "execution_count": 153,
   "id": "034c161a",
   "metadata": {},
   "outputs": [
    {
     "name": "stdout",
     "output_type": "stream",
     "text": [
      "<class 'pandas.core.frame.DataFrame'>\n",
      "RangeIndex: 40000 entries, 0 to 39999\n",
      "Data columns (total 14 columns):\n",
      " #   Column     Non-Null Count  Dtype \n",
      "---  ------     --------------  ----- \n",
      " 0   age        40000 non-null  int64 \n",
      " 1   job        40000 non-null  object\n",
      " 2   marital    40000 non-null  object\n",
      " 3   education  40000 non-null  object\n",
      " 4   default    40000 non-null  object\n",
      " 5   balance    40000 non-null  int64 \n",
      " 6   housing    40000 non-null  object\n",
      " 7   loan       40000 non-null  object\n",
      " 8   contact    40000 non-null  object\n",
      " 9   day        40000 non-null  int64 \n",
      " 10  month      40000 non-null  object\n",
      " 11  duration   40000 non-null  int64 \n",
      " 12  campaign   40000 non-null  int64 \n",
      " 13  y          40000 non-null  object\n",
      "dtypes: int64(5), object(9)\n",
      "memory usage: 4.3+ MB\n"
     ]
    }
   ],
   "source": [
    "data.info()"
   ]
  },
  {
   "cell_type": "code",
   "execution_count": 154,
   "id": "9079eb94",
   "metadata": {},
   "outputs": [
    {
     "data": {
      "text/plain": [
       "Index(['age', 'job', 'marital', 'education', 'default', 'balance', 'housing',\n",
       "       'loan', 'contact', 'day', 'month', 'duration', 'campaign', 'y'],\n",
       "      dtype='object')"
      ]
     },
     "execution_count": 154,
     "metadata": {},
     "output_type": "execute_result"
    }
   ],
   "source": [
    "data.columns"
   ]
  },
  {
   "cell_type": "code",
   "execution_count": 155,
   "id": "e1bf1bfa",
   "metadata": {},
   "outputs": [
    {
     "data": {
      "text/html": [
       "<div>\n",
       "<style scoped>\n",
       "    .dataframe tbody tr th:only-of-type {\n",
       "        vertical-align: middle;\n",
       "    }\n",
       "\n",
       "    .dataframe tbody tr th {\n",
       "        vertical-align: top;\n",
       "    }\n",
       "\n",
       "    .dataframe thead th {\n",
       "        text-align: right;\n",
       "    }\n",
       "</style>\n",
       "<table border=\"1\" class=\"dataframe\">\n",
       "  <thead>\n",
       "    <tr style=\"text-align: right;\">\n",
       "      <th></th>\n",
       "      <th>age</th>\n",
       "      <th>balance</th>\n",
       "      <th>day</th>\n",
       "      <th>duration</th>\n",
       "      <th>campaign</th>\n",
       "    </tr>\n",
       "  </thead>\n",
       "  <tbody>\n",
       "    <tr>\n",
       "      <th>count</th>\n",
       "      <td>40000.000000</td>\n",
       "      <td>40000.000000</td>\n",
       "      <td>40000.000000</td>\n",
       "      <td>40000.000000</td>\n",
       "      <td>40000.000000</td>\n",
       "    </tr>\n",
       "    <tr>\n",
       "      <th>mean</th>\n",
       "      <td>40.544600</td>\n",
       "      <td>1274.277550</td>\n",
       "      <td>16.017225</td>\n",
       "      <td>254.824300</td>\n",
       "      <td>2.882175</td>\n",
       "    </tr>\n",
       "    <tr>\n",
       "      <th>std</th>\n",
       "      <td>9.641776</td>\n",
       "      <td>2903.769716</td>\n",
       "      <td>8.278127</td>\n",
       "      <td>259.366498</td>\n",
       "      <td>3.239051</td>\n",
       "    </tr>\n",
       "    <tr>\n",
       "      <th>min</th>\n",
       "      <td>19.000000</td>\n",
       "      <td>-8019.000000</td>\n",
       "      <td>1.000000</td>\n",
       "      <td>0.000000</td>\n",
       "      <td>1.000000</td>\n",
       "    </tr>\n",
       "    <tr>\n",
       "      <th>25%</th>\n",
       "      <td>33.000000</td>\n",
       "      <td>54.000000</td>\n",
       "      <td>8.000000</td>\n",
       "      <td>100.000000</td>\n",
       "      <td>1.000000</td>\n",
       "    </tr>\n",
       "    <tr>\n",
       "      <th>50%</th>\n",
       "      <td>39.000000</td>\n",
       "      <td>407.000000</td>\n",
       "      <td>17.000000</td>\n",
       "      <td>175.000000</td>\n",
       "      <td>2.000000</td>\n",
       "    </tr>\n",
       "    <tr>\n",
       "      <th>75%</th>\n",
       "      <td>48.000000</td>\n",
       "      <td>1319.000000</td>\n",
       "      <td>21.000000</td>\n",
       "      <td>313.000000</td>\n",
       "      <td>3.000000</td>\n",
       "    </tr>\n",
       "    <tr>\n",
       "      <th>max</th>\n",
       "      <td>95.000000</td>\n",
       "      <td>102127.000000</td>\n",
       "      <td>31.000000</td>\n",
       "      <td>4918.000000</td>\n",
       "      <td>63.000000</td>\n",
       "    </tr>\n",
       "  </tbody>\n",
       "</table>\n",
       "</div>"
      ],
      "text/plain": [
       "                age        balance           day      duration      campaign\n",
       "count  40000.000000   40000.000000  40000.000000  40000.000000  40000.000000\n",
       "mean      40.544600    1274.277550     16.017225    254.824300      2.882175\n",
       "std        9.641776    2903.769716      8.278127    259.366498      3.239051\n",
       "min       19.000000   -8019.000000      1.000000      0.000000      1.000000\n",
       "25%       33.000000      54.000000      8.000000    100.000000      1.000000\n",
       "50%       39.000000     407.000000     17.000000    175.000000      2.000000\n",
       "75%       48.000000    1319.000000     21.000000    313.000000      3.000000\n",
       "max       95.000000  102127.000000     31.000000   4918.000000     63.000000"
      ]
     },
     "execution_count": 155,
     "metadata": {},
     "output_type": "execute_result"
    }
   ],
   "source": [
    "data.describe()"
   ]
  },
  {
   "cell_type": "code",
   "execution_count": 156,
   "id": "ebf9a380",
   "metadata": {},
   "outputs": [
    {
     "data": {
      "text/html": [
       "<div>\n",
       "<style scoped>\n",
       "    .dataframe tbody tr th:only-of-type {\n",
       "        vertical-align: middle;\n",
       "    }\n",
       "\n",
       "    .dataframe tbody tr th {\n",
       "        vertical-align: top;\n",
       "    }\n",
       "\n",
       "    .dataframe thead th {\n",
       "        text-align: right;\n",
       "    }\n",
       "</style>\n",
       "<table border=\"1\" class=\"dataframe\">\n",
       "  <thead>\n",
       "    <tr style=\"text-align: right;\">\n",
       "      <th></th>\n",
       "      <th>age</th>\n",
       "      <th>job</th>\n",
       "      <th>marital</th>\n",
       "      <th>education</th>\n",
       "      <th>default</th>\n",
       "      <th>balance</th>\n",
       "      <th>housing</th>\n",
       "      <th>loan</th>\n",
       "      <th>contact</th>\n",
       "      <th>day</th>\n",
       "      <th>month</th>\n",
       "      <th>duration</th>\n",
       "      <th>campaign</th>\n",
       "      <th>y</th>\n",
       "    </tr>\n",
       "  </thead>\n",
       "  <tbody>\n",
       "    <tr>\n",
       "      <th>0</th>\n",
       "      <td>58</td>\n",
       "      <td>management</td>\n",
       "      <td>married</td>\n",
       "      <td>tertiary</td>\n",
       "      <td>no</td>\n",
       "      <td>2143</td>\n",
       "      <td>yes</td>\n",
       "      <td>no</td>\n",
       "      <td>unknown</td>\n",
       "      <td>5</td>\n",
       "      <td>may</td>\n",
       "      <td>261</td>\n",
       "      <td>1</td>\n",
       "      <td>no</td>\n",
       "    </tr>\n",
       "    <tr>\n",
       "      <th>1</th>\n",
       "      <td>44</td>\n",
       "      <td>technician</td>\n",
       "      <td>single</td>\n",
       "      <td>secondary</td>\n",
       "      <td>no</td>\n",
       "      <td>29</td>\n",
       "      <td>yes</td>\n",
       "      <td>no</td>\n",
       "      <td>unknown</td>\n",
       "      <td>5</td>\n",
       "      <td>may</td>\n",
       "      <td>151</td>\n",
       "      <td>1</td>\n",
       "      <td>no</td>\n",
       "    </tr>\n",
       "    <tr>\n",
       "      <th>2</th>\n",
       "      <td>33</td>\n",
       "      <td>entrepreneur</td>\n",
       "      <td>married</td>\n",
       "      <td>secondary</td>\n",
       "      <td>no</td>\n",
       "      <td>2</td>\n",
       "      <td>yes</td>\n",
       "      <td>yes</td>\n",
       "      <td>unknown</td>\n",
       "      <td>5</td>\n",
       "      <td>may</td>\n",
       "      <td>76</td>\n",
       "      <td>1</td>\n",
       "      <td>no</td>\n",
       "    </tr>\n",
       "    <tr>\n",
       "      <th>3</th>\n",
       "      <td>47</td>\n",
       "      <td>blue-collar</td>\n",
       "      <td>married</td>\n",
       "      <td>unknown</td>\n",
       "      <td>no</td>\n",
       "      <td>1506</td>\n",
       "      <td>yes</td>\n",
       "      <td>no</td>\n",
       "      <td>unknown</td>\n",
       "      <td>5</td>\n",
       "      <td>may</td>\n",
       "      <td>92</td>\n",
       "      <td>1</td>\n",
       "      <td>no</td>\n",
       "    </tr>\n",
       "    <tr>\n",
       "      <th>4</th>\n",
       "      <td>33</td>\n",
       "      <td>unknown</td>\n",
       "      <td>single</td>\n",
       "      <td>unknown</td>\n",
       "      <td>no</td>\n",
       "      <td>1</td>\n",
       "      <td>no</td>\n",
       "      <td>no</td>\n",
       "      <td>unknown</td>\n",
       "      <td>5</td>\n",
       "      <td>may</td>\n",
       "      <td>198</td>\n",
       "      <td>1</td>\n",
       "      <td>no</td>\n",
       "    </tr>\n",
       "    <tr>\n",
       "      <th>5</th>\n",
       "      <td>35</td>\n",
       "      <td>management</td>\n",
       "      <td>married</td>\n",
       "      <td>tertiary</td>\n",
       "      <td>no</td>\n",
       "      <td>231</td>\n",
       "      <td>yes</td>\n",
       "      <td>no</td>\n",
       "      <td>unknown</td>\n",
       "      <td>5</td>\n",
       "      <td>may</td>\n",
       "      <td>139</td>\n",
       "      <td>1</td>\n",
       "      <td>no</td>\n",
       "    </tr>\n",
       "    <tr>\n",
       "      <th>6</th>\n",
       "      <td>28</td>\n",
       "      <td>management</td>\n",
       "      <td>single</td>\n",
       "      <td>tertiary</td>\n",
       "      <td>no</td>\n",
       "      <td>447</td>\n",
       "      <td>yes</td>\n",
       "      <td>yes</td>\n",
       "      <td>unknown</td>\n",
       "      <td>5</td>\n",
       "      <td>may</td>\n",
       "      <td>217</td>\n",
       "      <td>1</td>\n",
       "      <td>no</td>\n",
       "    </tr>\n",
       "    <tr>\n",
       "      <th>7</th>\n",
       "      <td>42</td>\n",
       "      <td>entrepreneur</td>\n",
       "      <td>divorced</td>\n",
       "      <td>tertiary</td>\n",
       "      <td>yes</td>\n",
       "      <td>2</td>\n",
       "      <td>yes</td>\n",
       "      <td>no</td>\n",
       "      <td>unknown</td>\n",
       "      <td>5</td>\n",
       "      <td>may</td>\n",
       "      <td>380</td>\n",
       "      <td>1</td>\n",
       "      <td>no</td>\n",
       "    </tr>\n",
       "    <tr>\n",
       "      <th>8</th>\n",
       "      <td>58</td>\n",
       "      <td>retired</td>\n",
       "      <td>married</td>\n",
       "      <td>primary</td>\n",
       "      <td>no</td>\n",
       "      <td>121</td>\n",
       "      <td>yes</td>\n",
       "      <td>no</td>\n",
       "      <td>unknown</td>\n",
       "      <td>5</td>\n",
       "      <td>may</td>\n",
       "      <td>50</td>\n",
       "      <td>1</td>\n",
       "      <td>no</td>\n",
       "    </tr>\n",
       "    <tr>\n",
       "      <th>9</th>\n",
       "      <td>43</td>\n",
       "      <td>technician</td>\n",
       "      <td>single</td>\n",
       "      <td>secondary</td>\n",
       "      <td>no</td>\n",
       "      <td>593</td>\n",
       "      <td>yes</td>\n",
       "      <td>no</td>\n",
       "      <td>unknown</td>\n",
       "      <td>5</td>\n",
       "      <td>may</td>\n",
       "      <td>55</td>\n",
       "      <td>1</td>\n",
       "      <td>no</td>\n",
       "    </tr>\n",
       "    <tr>\n",
       "      <th>10</th>\n",
       "      <td>41</td>\n",
       "      <td>admin</td>\n",
       "      <td>divorced</td>\n",
       "      <td>secondary</td>\n",
       "      <td>no</td>\n",
       "      <td>270</td>\n",
       "      <td>yes</td>\n",
       "      <td>no</td>\n",
       "      <td>unknown</td>\n",
       "      <td>5</td>\n",
       "      <td>may</td>\n",
       "      <td>222</td>\n",
       "      <td>1</td>\n",
       "      <td>no</td>\n",
       "    </tr>\n",
       "    <tr>\n",
       "      <th>11</th>\n",
       "      <td>29</td>\n",
       "      <td>admin</td>\n",
       "      <td>single</td>\n",
       "      <td>secondary</td>\n",
       "      <td>no</td>\n",
       "      <td>390</td>\n",
       "      <td>yes</td>\n",
       "      <td>no</td>\n",
       "      <td>unknown</td>\n",
       "      <td>5</td>\n",
       "      <td>may</td>\n",
       "      <td>137</td>\n",
       "      <td>1</td>\n",
       "      <td>no</td>\n",
       "    </tr>\n",
       "    <tr>\n",
       "      <th>12</th>\n",
       "      <td>53</td>\n",
       "      <td>technician</td>\n",
       "      <td>married</td>\n",
       "      <td>secondary</td>\n",
       "      <td>no</td>\n",
       "      <td>6</td>\n",
       "      <td>yes</td>\n",
       "      <td>no</td>\n",
       "      <td>unknown</td>\n",
       "      <td>5</td>\n",
       "      <td>may</td>\n",
       "      <td>517</td>\n",
       "      <td>1</td>\n",
       "      <td>no</td>\n",
       "    </tr>\n",
       "    <tr>\n",
       "      <th>13</th>\n",
       "      <td>58</td>\n",
       "      <td>technician</td>\n",
       "      <td>married</td>\n",
       "      <td>unknown</td>\n",
       "      <td>no</td>\n",
       "      <td>71</td>\n",
       "      <td>yes</td>\n",
       "      <td>no</td>\n",
       "      <td>unknown</td>\n",
       "      <td>5</td>\n",
       "      <td>may</td>\n",
       "      <td>71</td>\n",
       "      <td>1</td>\n",
       "      <td>no</td>\n",
       "    </tr>\n",
       "    <tr>\n",
       "      <th>14</th>\n",
       "      <td>57</td>\n",
       "      <td>services</td>\n",
       "      <td>married</td>\n",
       "      <td>secondary</td>\n",
       "      <td>no</td>\n",
       "      <td>162</td>\n",
       "      <td>yes</td>\n",
       "      <td>no</td>\n",
       "      <td>unknown</td>\n",
       "      <td>5</td>\n",
       "      <td>may</td>\n",
       "      <td>174</td>\n",
       "      <td>1</td>\n",
       "      <td>no</td>\n",
       "    </tr>\n",
       "  </tbody>\n",
       "</table>\n",
       "</div>"
      ],
      "text/plain": [
       "    age           job   marital  education default  balance housing loan  \\\n",
       "0    58    management   married   tertiary      no     2143     yes   no   \n",
       "1    44    technician    single  secondary      no       29     yes   no   \n",
       "2    33  entrepreneur   married  secondary      no        2     yes  yes   \n",
       "3    47   blue-collar   married    unknown      no     1506     yes   no   \n",
       "4    33       unknown    single    unknown      no        1      no   no   \n",
       "5    35    management   married   tertiary      no      231     yes   no   \n",
       "6    28    management    single   tertiary      no      447     yes  yes   \n",
       "7    42  entrepreneur  divorced   tertiary     yes        2     yes   no   \n",
       "8    58       retired   married    primary      no      121     yes   no   \n",
       "9    43    technician    single  secondary      no      593     yes   no   \n",
       "10   41         admin  divorced  secondary      no      270     yes   no   \n",
       "11   29         admin    single  secondary      no      390     yes   no   \n",
       "12   53    technician   married  secondary      no        6     yes   no   \n",
       "13   58    technician   married    unknown      no       71     yes   no   \n",
       "14   57      services   married  secondary      no      162     yes   no   \n",
       "\n",
       "    contact  day month  duration  campaign   y  \n",
       "0   unknown    5   may       261         1  no  \n",
       "1   unknown    5   may       151         1  no  \n",
       "2   unknown    5   may        76         1  no  \n",
       "3   unknown    5   may        92         1  no  \n",
       "4   unknown    5   may       198         1  no  \n",
       "5   unknown    5   may       139         1  no  \n",
       "6   unknown    5   may       217         1  no  \n",
       "7   unknown    5   may       380         1  no  \n",
       "8   unknown    5   may        50         1  no  \n",
       "9   unknown    5   may        55         1  no  \n",
       "10  unknown    5   may       222         1  no  \n",
       "11  unknown    5   may       137         1  no  \n",
       "12  unknown    5   may       517         1  no  \n",
       "13  unknown    5   may        71         1  no  \n",
       "14  unknown    5   may       174         1  no  "
      ]
     },
     "execution_count": 156,
     "metadata": {},
     "output_type": "execute_result"
    }
   ],
   "source": [
    "data.head(15)"
   ]
  },
  {
   "cell_type": "code",
   "execution_count": 157,
   "id": "3392ab1c",
   "metadata": {},
   "outputs": [
    {
     "name": "stdout",
     "output_type": "stream",
     "text": [
      "37104\n",
      "2896\n",
      "7.24\n"
     ]
    }
   ],
   "source": [
    "no = data[data['y'] == 'no']\n",
    "yes = data[data['y'] == 'yes']\n",
    "\n",
    "print(len(no))\n",
    "print(len(yes))\n",
    "print((len(yes)/(len(no)+len(yes)))*100)"
   ]
  },
  {
   "cell_type": "markdown",
   "id": "a86dd418",
   "metadata": {},
   "source": [
    "7% of the data set is Y = 'yes'. There are 40'000 entries and 13 features: 'age', 'job', 'marital', 'education', 'default', 'balance', 'housing', 'loan', 'contact', 'day', 'month', 'duration', 'campaign'"
   ]
  },
  {
   "cell_type": "code",
   "execution_count": 158,
   "id": "691275f0",
   "metadata": {},
   "outputs": [
    {
     "data": {
      "text/html": [
       "<div>\n",
       "<style scoped>\n",
       "    .dataframe tbody tr th:only-of-type {\n",
       "        vertical-align: middle;\n",
       "    }\n",
       "\n",
       "    .dataframe tbody tr th {\n",
       "        vertical-align: top;\n",
       "    }\n",
       "\n",
       "    .dataframe thead th {\n",
       "        text-align: right;\n",
       "    }\n",
       "</style>\n",
       "<table border=\"1\" class=\"dataframe\">\n",
       "  <thead>\n",
       "    <tr style=\"text-align: right;\">\n",
       "      <th></th>\n",
       "      <th>Total</th>\n",
       "      <th>%</th>\n",
       "    </tr>\n",
       "  </thead>\n",
       "  <tbody>\n",
       "    <tr>\n",
       "      <th>age</th>\n",
       "      <td>0</td>\n",
       "      <td>0.0</td>\n",
       "    </tr>\n",
       "    <tr>\n",
       "      <th>job</th>\n",
       "      <td>0</td>\n",
       "      <td>0.0</td>\n",
       "    </tr>\n",
       "    <tr>\n",
       "      <th>marital</th>\n",
       "      <td>0</td>\n",
       "      <td>0.0</td>\n",
       "    </tr>\n",
       "    <tr>\n",
       "      <th>education</th>\n",
       "      <td>0</td>\n",
       "      <td>0.0</td>\n",
       "    </tr>\n",
       "    <tr>\n",
       "      <th>default</th>\n",
       "      <td>0</td>\n",
       "      <td>0.0</td>\n",
       "    </tr>\n",
       "  </tbody>\n",
       "</table>\n",
       "</div>"
      ],
      "text/plain": [
       "           Total    %\n",
       "age            0  0.0\n",
       "job            0  0.0\n",
       "marital        0  0.0\n",
       "education      0  0.0\n",
       "default        0  0.0"
      ]
     },
     "execution_count": 158,
     "metadata": {},
     "output_type": "execute_result"
    }
   ],
   "source": [
    "total = data.isnull().sum().sort_values(ascending=False)\n",
    "percent_1 = data.isnull().sum()/data.isnull().count()*100\n",
    "percent_2 = (round(percent_1, 1)).sort_values(ascending=False)\n",
    "missing_data = pd.concat([total, percent_2], axis=1, keys=['Total', '%'])\n",
    "missing_data.head(5)"
   ]
  },
  {
   "cell_type": "markdown",
   "id": "3f5bd0af",
   "metadata": {},
   "source": [
    "No null/missing data"
   ]
  },
  {
   "cell_type": "markdown",
   "id": "82e5746d",
   "metadata": {},
   "source": [
    "age : age of customer (numeric)\n",
    "\n",
    "job : type of job (categorical)\n",
    "\n",
    "marital : marital status (categorical)\n",
    "\n",
    "education (categorical)\n",
    "\n",
    "default: has credit in default? (binary)\n",
    "\n",
    "balance: average yearly balance, in euros (numeric)\n",
    "\n",
    "housing: has a housing loan? (binary)\n",
    "\n",
    "loan: has personal loan? (binary)\n",
    "\n",
    "contact: contact communication type (categorical)\n",
    "\n",
    "day: last contact day of the month (numeric)\n",
    "\n",
    "month: last contact month of year (categorical)\n",
    "\n",
    "duration: last contact duration, in seconds (numeric)\n",
    "\n",
    "campaign: number of contacts performed during this campaign and for this client (numeric, includes last contact)"
   ]
  },
  {
   "cell_type": "code",
   "execution_count": 159,
   "id": "71350aab",
   "metadata": {},
   "outputs": [],
   "source": [
    "feature_cols = ['age', 'job', 'marital', 'education', 'default', 'balance', 'housing',\n",
    "       'loan', 'contact', 'day', 'month', 'duration', 'campaign']"
   ]
  },
  {
   "cell_type": "code",
   "execution_count": 160,
   "id": "4ea6ee4f",
   "metadata": {},
   "outputs": [
    {
     "name": "stdout",
     "output_type": "stream",
     "text": [
      "age:  [58 44 33 47 35 28 42 43 41 29 53 57 51 45 60 56 32 25 40 39 52 46 36 49\n",
      " 59 37 50 54 55 48 24 38 31 30 27 34 23 26 61 22 21 20 66 62 83 75 67 70\n",
      " 65 68 64 69 72 71 19 76 85 63 90 82 73 74 78 80 94 79 77 86 95 81]\n",
      "job:  ['management' 'technician' 'entrepreneur' 'blue-collar' 'unknown'\n",
      " 'retired' 'admin' 'services' 'self-employed' 'unemployed' 'housemaid'\n",
      " 'student']\n",
      "marital:  ['married' 'single' 'divorced']\n",
      "education:  ['tertiary' 'secondary' 'unknown' 'primary']\n",
      "default:  ['no' 'yes']\n",
      "balance:  [  2143     29      2 ...   7222   3402 102127]\n",
      "housing:  ['yes' 'no']\n",
      "loan:  ['no' 'yes']\n",
      "contact:  ['unknown' 'cellular' 'telephone']\n",
      "day:  [ 5  6  7  8  9 12 13 14 15 16 19 20 21 23 26 27 28 29 30  2  3  4 11 17\n",
      " 18 24 25  1 10 22 31]\n",
      "month:  ['may' 'jun' 'jul' 'aug' 'oct' 'nov' 'dec' 'jan' 'feb' 'mar' 'apr']\n",
      "duration:  [ 261  151   76 ... 1880 1460 2219]\n",
      "campagn:  [ 1  2  3  5  4  6  7  8  9 10 11 12 13 19 14 24 16 32 18 22 15 17 25 21\n",
      " 43 51 63 41 26 28 55 50 38 23 20 29 31 37 30 46 27 58 33 35 34 36 39 44]\n",
      "y:  ['no' 'yes']\n"
     ]
    }
   ],
   "source": [
    "print('age: ', data.age.unique())\n",
    "print('job: ', data.job.unique())\n",
    "print('marital: ', data.marital.unique())\n",
    "print('education: ', data.education.unique())\n",
    "print('default: ', data.default.unique())\n",
    "print('balance: ', data.balance.unique())\n",
    "print('housing: ', data.housing.unique())\n",
    "print('loan: ', data.loan.unique())\n",
    "print('contact: ', data.contact.unique())\n",
    "print('day: ', data.day.unique())\n",
    "print('month: ', data.month.unique())\n",
    "print('duration: ', data.duration.unique())\n",
    "print('campagn: ', data.campaign.unique())\n",
    "print('y: ', data.y.unique())"
   ]
  },
  {
   "cell_type": "code",
   "execution_count": 161,
   "id": "3d9eed65",
   "metadata": {},
   "outputs": [
    {
     "data": {
      "text/plain": [
       "Text(0.5, 1.0, 'Yes')"
      ]
     },
     "execution_count": 161,
     "metadata": {},
     "output_type": "execute_result"
    },
    {
     "data": {
      "image/png": "[encoded data removed]",
      "text/plain": [
       "<Figure size 720x288 with 2 Axes>"
      ]
     },
     "metadata": {
      "needs_background": "light"
     },
     "output_type": "display_data"
    }
   ],
   "source": [
    "feature = 'age'\n",
    "fig, axes = plt.subplots(nrows=1, ncols=2,figsize=(10, 4))\n",
    "ax = sns.histplot(data = no, x=feature, ax = axes[0], color = 'r')\n",
    "ax.set_title('No')\n",
    "ax = sns.histplot(data = yes, x=feature, ax = axes[1], color = 'b')\n",
    "ax.set_title('Yes') "
   ]
  },
  {
   "cell_type": "code",
   "execution_count": 61,
   "id": "a1e83923",
   "metadata": {},
   "outputs": [
    {
     "data": {
      "text/plain": [
       "Text(0.5, 1.0, 'Yes')"
      ]
     },
     "execution_count": 61,
     "metadata": {},
     "output_type": "execute_result"
    },
    {
     "data": {
      "image/png": "[encoded data removed]",
      "text/plain": [
       "<Figure size 720x288 with 2 Axes>"
      ]
     },
     "metadata": {
      "needs_background": "light"
     },
     "output_type": "display_data"
    }
   ],
   "source": [
    "feature = 'job'\n",
    "fig, axes = plt.subplots(nrows=1, ncols=2,figsize=(10, 4))\n",
    "ax = sns.histplot(data = no, x=feature, ax = axes[0], color = 'r')\n",
    "ax.set_title('No')\n",
    "ax = sns.histplot(data = yes, x=feature, ax = axes[1], color = 'b')\n",
    "ax.set_title('Yes')"
   ]
  },
  {
   "cell_type": "code",
   "execution_count": 60,
   "id": "62c3441a",
   "metadata": {},
   "outputs": [
    {
     "data": {
      "text/plain": [
       "Text(0.5, 1.0, 'Yes')"
      ]
     },
     "execution_count": 60,
     "metadata": {},
     "output_type": "execute_result"
    },
    {
     "data": {
      "image/png": "[encoded data removed]",
      "text/plain": [
       "<Figure size 720x288 with 2 Axes>"
      ]
     },
     "metadata": {
      "needs_background": "light"
     },
     "output_type": "display_data"
    }
   ],
   "source": [
    "feature = 'marital'\n",
    "fig, axes = plt.subplots(nrows=1, ncols=2,figsize=(10, 4))\n",
    "ax = sns.histplot(data = no, x=feature, ax = axes[0], color = 'r')\n",
    "ax.set_title('No')\n",
    "ax = sns.histplot(data = yes, x=feature, ax = axes[1], color = 'b')\n",
    "ax.set_title('Yes')"
   ]
  },
  {
   "cell_type": "code",
   "execution_count": 59,
   "id": "4340de96",
   "metadata": {},
   "outputs": [
    {
     "data": {
      "text/plain": [
       "Text(0.5, 1.0, 'Yes')"
      ]
     },
     "execution_count": 59,
     "metadata": {},
     "output_type": "execute_result"
    },
    {
     "data": {
      "image/png": "[encoded data removed]",
      "text/plain": [
       "<Figure size 720x288 with 2 Axes>"
      ]
     },
     "metadata": {
      "needs_background": "light"
     },
     "output_type": "display_data"
    }
   ],
   "source": [
    "feature = 'education'\n",
    "fig, axes = plt.subplots(nrows=1, ncols=2,figsize=(10, 4))\n",
    "ax = sns.histplot(data = no, x=feature, ax = axes[0], color = 'r')\n",
    "ax.set_title('No')\n",
    "ax = sns.histplot(data = yes, x=feature, ax = axes[1], color = 'b')\n",
    "ax.set_title('Yes')"
   ]
  },
  {
   "cell_type": "code",
   "execution_count": 58,
   "id": "91958cb1",
   "metadata": {},
   "outputs": [
    {
     "data": {
      "text/plain": [
       "Text(0.5, 1.0, 'Yes')"
      ]
     },
     "execution_count": 58,
     "metadata": {},
     "output_type": "execute_result"
    },
    {
     "data": {
      "image/png": "[encoded data removed]",
      "text/plain": [
       "<Figure size 720x288 with 2 Axes>"
      ]
     },
     "metadata": {
      "needs_background": "light"
     },
     "output_type": "display_data"
    }
   ],
   "source": [
    "feature = 'default'\n",
    "\n",
    "fig, axes = plt.subplots(nrows=1, ncols=2,figsize=(10, 4))\n",
    "ax = sns.histplot(data = no, x=feature, ax = axes[0], color = 'r')\n",
    "ax.set_title('No')\n",
    "ax = sns.histplot(data = yes, x=feature, ax = axes[1], color = 'b')\n",
    "ax.set_title('Yes')"
   ]
  },
  {
   "cell_type": "code",
   "execution_count": 56,
   "id": "02439527",
   "metadata": {},
   "outputs": [
    {
     "data": {
      "text/plain": [
       "Text(0.5, 1.0, 'Yes')"
      ]
     },
     "execution_count": 56,
     "metadata": {},
     "output_type": "execute_result"
    },
    {
     "data": {
      "image/png": "[encoded data removed]",
      "text/plain": [
       "<Figure size 720x288 with 2 Axes>"
      ]
     },
     "metadata": {
      "needs_background": "light"
     },
     "output_type": "display_data"
    }
   ],
   "source": [
    "feature = 'balance'\n",
    "\n",
    "fig, axes = plt.subplots(nrows=1, ncols=2,figsize=(10, 4))\n",
    "ax = sns.histplot(data = no, x=feature, ax = axes[0], color = 'r')\n",
    "ax.set_title('No')\n",
    "ax = sns.histplot(data = yes, x=feature, ax = axes[1], color = 'b')\n",
    "ax.set_title('Yes')"
   ]
  },
  {
   "cell_type": "code",
   "execution_count": 57,
   "id": "8004b84f",
   "metadata": {},
   "outputs": [
    {
     "data": {
      "text/plain": [
       "Text(0.5, 1.0, 'Yes')"
      ]
     },
     "execution_count": 57,
     "metadata": {},
     "output_type": "execute_result"
    },
    {
     "data": {
      "image/png": "[encoded data removed]",
      "text/plain": [
       "<Figure size 720x288 with 2 Axes>"
      ]
     },
     "metadata": {
      "needs_background": "light"
     },
     "output_type": "display_data"
    }
   ],
   "source": [
    "feature = 'housing'\n",
    "\n",
    "fig, axes = plt.subplots(nrows=1, ncols=2,figsize=(10, 4))\n",
    "ax = sns.histplot(data = no, x=feature, ax = axes[0], color = 'r')\n",
    "ax.set_title('No')\n",
    "ax = sns.histplot(data = yes, x=feature, ax = axes[1], color = 'b')\n",
    "ax.set_title('Yes')"
   ]
  },
  {
   "cell_type": "code",
   "execution_count": 63,
   "id": "68f0c903",
   "metadata": {},
   "outputs": [
    {
     "data": {
      "text/plain": [
       "Text(0.5, 1.0, 'Yes')"
      ]
     },
     "execution_count": 63,
     "metadata": {},
     "output_type": "execute_result"
    },
    {
     "data": {
      "image/png": "[encoded data removed]",
      "text/plain": [
       "<Figure size 720x288 with 2 Axes>"
      ]
     },
     "metadata": {
      "needs_background": "light"
     },
     "output_type": "display_data"
    }
   ],
   "source": [
    "feature = 'loan'\n",
    "\n",
    "fig, axes = plt.subplots(nrows=1, ncols=2,figsize=(10, 4))\n",
    "ax = sns.histplot(data = no, x=feature, ax = axes[0], color = 'r')\n",
    "ax.set_title('No')\n",
    "ax = sns.histplot(data = yes, x=feature, ax = axes[1], color = 'b')\n",
    "ax.set_title('Yes')"
   ]
  },
  {
   "cell_type": "code",
   "execution_count": 64,
   "id": "ecfc1875",
   "metadata": {},
   "outputs": [
    {
     "data": {
      "text/plain": [
       "Text(0.5, 1.0, 'Yes')"
      ]
     },
     "execution_count": 64,
     "metadata": {},
     "output_type": "execute_result"
    },
    {
     "data": {
      "image/png": "[encoded data removed]",
      "text/plain": [
       "<Figure size 720x288 with 2 Axes>"
      ]
     },
     "metadata": {
      "needs_background": "light"
     },
     "output_type": "display_data"
    }
   ],
   "source": [
    "feature = 'contact'\n",
    "\n",
    "fig, axes = plt.subplots(nrows=1, ncols=2,figsize=(10, 4))\n",
    "ax = sns.histplot(data = no, x=feature, ax = axes[0], color = 'r')\n",
    "ax.set_title('No')\n",
    "ax = sns.histplot(data = yes, x=feature, ax = axes[1], color = 'b')\n",
    "ax.set_title('Yes')"
   ]
  },
  {
   "cell_type": "code",
   "execution_count": 65,
   "id": "ef4e8f14",
   "metadata": {},
   "outputs": [
    {
     "data": {
      "text/plain": [
       "Text(0.5, 1.0, 'Yes')"
      ]
     },
     "execution_count": 65,
     "metadata": {},
     "output_type": "execute_result"
    },
    {
     "data": {
      "image/png": "[encoded data removed]",
      "text/plain": [
       "<Figure size 720x288 with 2 Axes>"
      ]
     },
     "metadata": {
      "needs_background": "light"
     },
     "output_type": "display_data"
    }
   ],
   "source": [
    "feature = 'day'\n",
    "\n",
    "fig, axes = plt.subplots(nrows=1, ncols=2,figsize=(10, 4))\n",
    "ax = sns.histplot(data = no, x=feature, ax = axes[0], color = 'r')\n",
    "ax.set_title('No')\n",
    "ax = sns.histplot(data = yes, x=feature, ax = axes[1], color = 'b')\n",
    "ax.set_title('Yes')"
   ]
  },
  {
   "cell_type": "code",
   "execution_count": 66,
   "id": "f40cd128",
   "metadata": {},
   "outputs": [
    {
     "data": {
      "text/plain": [
       "Text(0.5, 1.0, 'Yes')"
      ]
     },
     "execution_count": 66,
     "metadata": {},
     "output_type": "execute_result"
    },
    {
     "data": {
      "image/png": "[encoded data removed]",
      "text/plain": [
       "<Figure size 720x288 with 2 Axes>"
      ]
     },
     "metadata": {
      "needs_background": "light"
     },
     "output_type": "display_data"
    }
   ],
   "source": [
    "feature = 'month'\n",
    "\n",
    "fig, axes = plt.subplots(nrows=1, ncols=2,figsize=(10, 4))\n",
    "ax = sns.histplot(data = no, x=feature, ax = axes[0], color = 'r')\n",
    "ax.set_title('No')\n",
    "ax = sns.histplot(data = yes, x=feature, ax = axes[1], color = 'b')\n",
    "ax.set_title('Yes')"
   ]
  },
  {
   "cell_type": "code",
   "execution_count": 67,
   "id": "693437f2",
   "metadata": {},
   "outputs": [
    {
     "data": {
      "text/plain": [
       "Text(0.5, 1.0, 'Yes')"
      ]
     },
     "execution_count": 67,
     "metadata": {},
     "output_type": "execute_result"
    },
    {
     "data": {
      "image/png": "[encoded data removed]",
      "text/plain": [
       "<Figure size 720x288 with 2 Axes>"
      ]
     },
     "metadata": {
      "needs_background": "light"
     },
     "output_type": "display_data"
    }
   ],
   "source": [
    "feature = 'duration'\n",
    "\n",
    "fig, axes = plt.subplots(nrows=1, ncols=2,figsize=(10, 4))\n",
    "ax = sns.histplot(data = no, x=feature, ax = axes[0], color = 'r')\n",
    "ax.set_title('No')\n",
    "ax = sns.histplot(data = yes, x=feature, ax = axes[1], color = 'b')\n",
    "ax.set_title('Yes')"
   ]
  },
  {
   "cell_type": "code",
   "execution_count": 68,
   "id": "353afb6a",
   "metadata": {},
   "outputs": [
    {
     "data": {
      "text/plain": [
       "Text(0.5, 1.0, 'Yes')"
      ]
     },
     "execution_count": 68,
     "metadata": {},
     "output_type": "execute_result"
    },
    {
     "data": {
      "image/png": "[encoded data removed]",
      "text/plain": [
       "<Figure size 720x288 with 2 Axes>"
      ]
     },
     "metadata": {
      "needs_background": "light"
     },
     "output_type": "display_data"
    }
   ],
   "source": [
    "feature = 'campaign'\n",
    "\n",
    "fig, axes = plt.subplots(nrows=1, ncols=2,figsize=(10, 4))\n",
    "ax = sns.histplot(data = no, x=feature, ax = axes[0], color = 'r')\n",
    "ax.set_title('No')\n",
    "ax = sns.histplot(data = yes, x=feature, ax = axes[1], color = 'b')\n",
    "ax.set_title('Yes')"
   ]
  },
  {
   "cell_type": "markdown",
   "id": "ae282606",
   "metadata": {},
   "source": [
    "# Marital and age"
   ]
  },
  {
   "cell_type": "code",
   "execution_count": 39,
   "id": "e9c32bd2",
   "metadata": {},
   "outputs": [
    {
     "data": {
      "text/plain": [
       "Text(0.5, 1.0, 'Divorced')"
      ]
     },
     "execution_count": 39,
     "metadata": {},
     "output_type": "execute_result"
    },
    {
     "data": {
      "image/png": "[encoded data removed]",
      "text/plain": [
       "<Figure size 720x288 with 3 Axes>"
      ]
     },
     "metadata": {
      "needs_background": "light"
     },
     "output_type": "display_data"
    }
   ],
   "source": [
    "fig, axes = plt.subplots(nrows=1, ncols=3,figsize=(10, 4))\n",
    "married = data[data['marital']=='married']\n",
    "single = data[data['marital']=='single']\n",
    "divorced = data[data['marital']=='divorced']\n",
    "ax = sns.distplot(married[married['y']=='no'].age, bins=18, label = 'no', ax = axes[0], kde =False)\n",
    "ax = sns.distplot(married[married['y']=='yes'].age, bins=18, label = 'yes', ax = axes[0], kde =False)\n",
    "ax.legend()\n",
    "ax.set_title('Married')\n",
    "ax = sns.distplot(single[single['y']=='no'].age, bins=18, label = 'no', ax = axes[1], kde =False)\n",
    "ax = sns.distplot(single[single['y']=='yes'].age, bins=18, label = 'yes', ax = axes[1], kde =False)\n",
    "ax.legend()\n",
    "ax.set_title('Single')\n",
    "ax = sns.distplot(divorced[divorced['y']=='no'].age, bins=18, label = 'no', ax = axes[2], kde =False)\n",
    "ax = sns.distplot(divorced[divorced['y']=='yes'].age, bins=18, label = 'yes', ax = axes[2], kde =False)\n",
    "ax.legend()\n",
    "ax.set_title('Divorced')"
   ]
  },
  {
   "cell_type": "markdown",
   "id": "182e371f",
   "metadata": {},
   "source": [
    "No missing data"
   ]
  },
  {
   "cell_type": "code",
   "execution_count": 69,
   "id": "cccd3064",
   "metadata": {},
   "outputs": [
    {
     "name": "stdout",
     "output_type": "stream",
     "text": [
      "<class 'pandas.core.frame.DataFrame'>\n",
      "RangeIndex: 40000 entries, 0 to 39999\n",
      "Data columns (total 14 columns):\n",
      " #   Column     Non-Null Count  Dtype \n",
      "---  ------     --------------  ----- \n",
      " 0   age        40000 non-null  int64 \n",
      " 1   job        40000 non-null  object\n",
      " 2   marital    40000 non-null  object\n",
      " 3   education  40000 non-null  object\n",
      " 4   default    40000 non-null  object\n",
      " 5   balance    40000 non-null  int64 \n",
      " 6   housing    40000 non-null  object\n",
      " 7   loan       40000 non-null  object\n",
      " 8   contact    40000 non-null  object\n",
      " 9   day        40000 non-null  int64 \n",
      " 10  month      40000 non-null  object\n",
      " 11  duration   40000 non-null  int64 \n",
      " 12  campaign   40000 non-null  int64 \n",
      " 13  y          40000 non-null  object\n",
      "dtypes: int64(5), object(9)\n",
      "memory usage: 4.3+ MB\n"
     ]
    }
   ],
   "source": [
    "data.info()"
   ]
  },
  {
   "cell_type": "markdown",
   "id": "e683fb73",
   "metadata": {},
   "source": [
    "# Making numerical"
   ]
  },
  {
   "cell_type": "code",
   "execution_count": 162,
   "id": "bd1bf07b",
   "metadata": {},
   "outputs": [
    {
     "name": "stdout",
     "output_type": "stream",
     "text": [
      "age:  [58 44 33 47 35 28 42 43 41 29 53 57 51 45 60 56 32 25 40 39 52 46 36 49\n",
      " 59 37 50 54 55 48 24 38 31 30 27 34 23 26 61 22 21 20 66 62 83 75 67 70\n",
      " 65 68 64 69 72 71 19 76 85 63 90 82 73 74 78 80 94 79 77 86 95 81]\n",
      "job:  ['management' 'technician' 'entrepreneur' 'blue-collar' 'unknown'\n",
      " 'retired' 'admin' 'services' 'self-employed' 'unemployed' 'housemaid'\n",
      " 'student']\n",
      "marital:  ['married' 'single' 'divorced']\n",
      "education:  ['tertiary' 'secondary' 'unknown' 'primary']\n",
      "default:  ['no' 'yes']\n",
      "balance:  [  2143     29      2 ...   7222   3402 102127]\n",
      "housing:  ['yes' 'no']\n",
      "loan:  ['no' 'yes']\n",
      "contact:  ['unknown' 'cellular' 'telephone']\n",
      "day:  [ 5  6  7  8  9 12 13 14 15 16 19 20 21 23 26 27 28 29 30  2  3  4 11 17\n",
      " 18 24 25  1 10 22 31]\n",
      "month:  ['may' 'jun' 'jul' 'aug' 'oct' 'nov' 'dec' 'jan' 'feb' 'mar' 'apr']\n",
      "duration:  [ 261  151   76 ... 1880 1460 2219]\n",
      "campagn:  [ 1  2  3  5  4  6  7  8  9 10 11 12 13 19 14 24 16 32 18 22 15 17 25 21\n",
      " 43 51 63 41 26 28 55 50 38 23 20 29 31 37 30 46 27 58 33 35 34 36 39 44]\n",
      "y:  ['no' 'yes']\n"
     ]
    }
   ],
   "source": [
    "#reminder\n",
    "print('age: ', data.age.unique())\n",
    "print('job: ', data.job.unique())\n",
    "print('marital: ', data.marital.unique())\n",
    "print('education: ', data.education.unique())\n",
    "print('default: ', data.default.unique())\n",
    "print('balance: ', data.balance.unique())\n",
    "print('housing: ', data.housing.unique())\n",
    "print('loan: ', data.loan.unique())\n",
    "print('contact: ', data.contact.unique())\n",
    "print('day: ', data.day.unique())\n",
    "print('month: ', data.month.unique())\n",
    "print('duration: ', data.duration.unique())\n",
    "print('campagn: ', data.campaign.unique())\n",
    "print('y: ', data.y.unique())"
   ]
  },
  {
   "cell_type": "code",
   "execution_count": 163,
   "id": "ea179b35",
   "metadata": {},
   "outputs": [],
   "source": [
    "job = {'management':0, 'technician':1, 'entrepreneur':2, 'blue-collar':3, 'unknown':4,\n",
    " 'retired':5, 'admin':6,  'services':7,  'self-employed':8,  'unemployed':9, 'housemaid':10,\n",
    " 'student':11}\n",
    "marital = {'married':0, 'single':1, 'divorced':2}\n",
    "education = {'tertiary':0, 'secondary':1, 'unknown':2, 'primary':3}\n",
    "default = {'no':0, 'yes':1}\n",
    "housing = {'no':0, 'yes':1}\n",
    "loan = {'no':0, 'yes':1}\n",
    "contact = {'unknown':0, 'cellular':1, 'telephone':2}\n",
    "month = {'jan':1, 'feb':2, 'mar': 3, 'apr':4, 'may': 5, 'jun': 6, 'jul':7, 'aug': 8, 'oct': 10, 'nov':11,'dec':12}\n",
    "ymap = {'no':0, 'yes':1}"
   ]
  },
  {
   "cell_type": "code",
   "execution_count": 164,
   "id": "7f003e8c",
   "metadata": {},
   "outputs": [],
   "source": [
    "data['job'] = data['job'].map(job)\n",
    "data['marital'] = data['marital'].map(marital)\n",
    "data['education'] = data['education'].map(education)\n",
    "data['default'] = data['default'].map(default)\n",
    "data['housing'] = data['housing'].map(housing)\n",
    "data['loan'] = data['loan'].map(loan)\n",
    "data['contact'] = data['contact'].map(contact)\n",
    "data['month'] = data['month'].map(month)\n",
    "data['y'] = data['y'].map(ymap)"
   ]
  },
  {
   "cell_type": "code",
   "execution_count": 165,
   "id": "f64ddfdd",
   "metadata": {},
   "outputs": [
    {
     "name": "stdout",
     "output_type": "stream",
     "text": [
      "<class 'pandas.core.frame.DataFrame'>\n",
      "RangeIndex: 40000 entries, 0 to 39999\n",
      "Data columns (total 14 columns):\n",
      " #   Column     Non-Null Count  Dtype\n",
      "---  ------     --------------  -----\n",
      " 0   age        40000 non-null  int64\n",
      " 1   job        40000 non-null  int64\n",
      " 2   marital    40000 non-null  int64\n",
      " 3   education  40000 non-null  int64\n",
      " 4   default    40000 non-null  int64\n",
      " 5   balance    40000 non-null  int64\n",
      " 6   housing    40000 non-null  int64\n",
      " 7   loan       40000 non-null  int64\n",
      " 8   contact    40000 non-null  int64\n",
      " 9   day        40000 non-null  int64\n",
      " 10  month      40000 non-null  int64\n",
      " 11  duration   40000 non-null  int64\n",
      " 12  campaign   40000 non-null  int64\n",
      " 13  y          40000 non-null  int64\n",
      "dtypes: int64(14)\n",
      "memory usage: 4.3 MB\n"
     ]
    }
   ],
   "source": [
    "data.info()"
   ]
  },
  {
   "cell_type": "code",
   "execution_count": 166,
   "id": "100c278b",
   "metadata": {},
   "outputs": [
    {
     "name": "stdout",
     "output_type": "stream",
     "text": [
      "age:  [58 44 33 47 35 28 42 43 41 29 53 57 51 45 60 56 32 25 40 39 52 46 36 49\n",
      " 59 37 50 54 55 48 24 38 31 30 27 34 23 26 61 22 21 20 66 62 83 75 67 70\n",
      " 65 68 64 69 72 71 19 76 85 63 90 82 73 74 78 80 94 79 77 86 95 81]\n",
      "job:  [ 0  1  2  3  4  5  6  7  8  9 10 11]\n",
      "marital:  [0 1 2]\n",
      "education:  [0 1 2 3]\n",
      "default:  [0 1]\n",
      "balance:  [  2143     29      2 ...   7222   3402 102127]\n",
      "housing:  [1 0]\n",
      "loan:  [0 1]\n",
      "contact:  [0 1 2]\n",
      "day:  [ 5  6  7  8  9 12 13 14 15 16 19 20 21 23 26 27 28 29 30  2  3  4 11 17\n",
      " 18 24 25  1 10 22 31]\n",
      "month:  [ 5  6  7  8 10 11 12  1  2  3  4]\n",
      "duration:  [ 261  151   76 ... 1880 1460 2219]\n",
      "campagn:  [ 1  2  3  5  4  6  7  8  9 10 11 12 13 19 14 24 16 32 18 22 15 17 25 21\n",
      " 43 51 63 41 26 28 55 50 38 23 20 29 31 37 30 46 27 58 33 35 34 36 39 44]\n",
      "y:  [0 1]\n"
     ]
    }
   ],
   "source": [
    "#checking now\n",
    "#reminder\n",
    "print('age: ', data.age.unique())\n",
    "print('job: ', data.job.unique())\n",
    "print('marital: ', data.marital.unique())\n",
    "print('education: ', data.education.unique())\n",
    "print('default: ', data.default.unique())\n",
    "print('balance: ', data.balance.unique())\n",
    "print('housing: ', data.housing.unique())\n",
    "print('loan: ', data.loan.unique())\n",
    "print('contact: ', data.contact.unique())\n",
    "print('day: ', data.day.unique())\n",
    "print('month: ', data.month.unique())\n",
    "print('duration: ', data.duration.unique())\n",
    "print('campagn: ', data.campaign.unique())\n",
    "print('y: ', data.y.unique())"
   ]
  },
  {
   "cell_type": "markdown",
   "id": "3e5743e6",
   "metadata": {},
   "source": [
    "# Feature importance"
   ]
  },
  {
   "cell_type": "code",
   "execution_count": 167,
   "id": "6e275bd5",
   "metadata": {},
   "outputs": [
    {
     "name": "stdout",
     "output_type": "stream",
     "text": [
      "3731\n",
      "-8019\n"
     ]
    }
   ],
   "source": [
    "print(len(data[data.balance <0]))\n",
    "print(min(data.balance))"
   ]
  },
  {
   "cell_type": "code",
   "execution_count": 168,
   "id": "68ea08fc",
   "metadata": {},
   "outputs": [
    {
     "name": "stdout",
     "output_type": "stream",
     "text": [
      "0\n",
      "0\n"
     ]
    }
   ],
   "source": [
    "#because there are some negative values, \n",
    "#we will temporarily add the min value, 8019, to all balances to calculate chi2\n",
    "for i in range(len(data.index)):\n",
    "    data.balance.iloc[i] += 8019\n",
    "    \n",
    "print(len(data[data.balance <0]))\n",
    "print(min(data.balance))"
   ]
  },
  {
   "cell_type": "code",
   "execution_count": 169,
   "id": "c8fb15cc",
   "metadata": {},
   "outputs": [
    {
     "name": "stdout",
     "output_type": "stream",
     "text": [
      "0\n",
      "0\n",
      "0\n",
      "0\n",
      "0\n",
      "0\n",
      "0\n",
      "0\n",
      "0\n",
      "0\n",
      "0\n",
      "0\n",
      "0\n"
     ]
    }
   ],
   "source": [
    "for feat in feature_cols:\n",
    "    print(len(data[data[feat] <0]))"
   ]
  },
  {
   "cell_type": "markdown",
   "id": "62dac4ca",
   "metadata": {},
   "source": [
    "Make X and y"
   ]
  },
  {
   "cell_type": "code",
   "execution_count": 170,
   "id": "1bd70c26",
   "metadata": {},
   "outputs": [
    {
     "name": "stdout",
     "output_type": "stream",
     "text": [
      "       age  job  marital  education  default  balance  housing  loan  contact  \\\n",
      "0       58    0        0          0        0    10162        1     0        0   \n",
      "1       44    1        1          1        0     8048        1     0        0   \n",
      "2       33    2        0          1        0     8021        1     1        0   \n",
      "3       47    3        0          2        0     9525        1     0        0   \n",
      "4       33    4        1          2        0     8020        0     0        0   \n",
      "...    ...  ...      ...        ...      ...      ...      ...   ...      ...   \n",
      "39995   53    1        0          0        0     8414        0     0        1   \n",
      "39996   30    0        1          0        0    11359        0     0        1   \n",
      "39997   54    6        2          1        0     8219        0     0        1   \n",
      "39998   34    0        0          0        0     9066        0     0        1   \n",
      "39999   38    1        0          1        0     9461        1     0        1   \n",
      "\n",
      "       day  month  duration  campaign  \n",
      "0        5      5       261         1  \n",
      "1        5      5       151         1  \n",
      "2        5      5        76         1  \n",
      "3        5      5        92         1  \n",
      "4        5      5       198         1  \n",
      "...    ...    ...       ...       ...  \n",
      "39995    3      6       107         1  \n",
      "39996    3      6       238         3  \n",
      "39997    3      6       170         1  \n",
      "39998    3      6       342         1  \n",
      "39999    3      6       113         1  \n",
      "\n",
      "[40000 rows x 13 columns]\n"
     ]
    }
   ],
   "source": [
    "X = data[feature_cols]\n",
    "y = data.y \n",
    "print(X)"
   ]
  },
  {
   "cell_type": "code",
   "execution_count": 171,
   "id": "1bbad9d4",
   "metadata": {},
   "outputs": [
    {
     "name": "stdout",
     "output_type": "stream",
     "text": [
      "      Feature    Importance\n",
      "11   duration  2.245727e+06\n",
      "5     balance  3.316896e+04\n",
      "12   campaign  2.370594e+02\n",
      "8     contact  9.106058e+01\n",
      "2     marital  8.287598e+01\n",
      "10      month  6.756137e+01\n",
      "3   education  6.555857e+01\n",
      "6     housing  4.714734e+01\n",
      "0         age  3.769258e+01\n",
      "7        loan  3.184029e+01\n",
      "9         day  7.052987e+00\n",
      "4     default  1.686247e+00\n",
      "1         job  4.923854e-01\n"
     ]
    }
   ],
   "source": [
    "#filter features by importance\n",
    "\n",
    "# Perform feature selection using the chi2 method\n",
    "selector = SelectKBest(score_func=chi2, k='all')\n",
    "selector.fit(X, y)\n",
    "\n",
    "# Get the feature importances based on the chi2 scores\n",
    "scores = selector.scores_\n",
    "\n",
    "# Create a dataframe with the feature names and their importances\n",
    "features = X.columns\n",
    "importances = pd.DataFrame({'Feature': features, 'Importance': scores})\n",
    "\n",
    "# Sort the dataframe by importance\n",
    "importances = importances.sort_values(by='Importance', ascending=False)\n",
    "\n",
    "# Print the feature importances\n",
    "print(importances)"
   ]
  },
  {
   "cell_type": "code",
   "execution_count": 172,
   "id": "bf1475d3",
   "metadata": {},
   "outputs": [
    {
     "name": "stdout",
     "output_type": "stream",
     "text": [
      "3731\n",
      "-8019\n"
     ]
    }
   ],
   "source": [
    "#reverse addition\n",
    "for i in range(len(data.index)):\n",
    "    data.balance.iloc[i] -= 8019\n",
    "    \n",
    "print(len(data[data.balance <0]))\n",
    "print(min(data.balance))"
   ]
  },
  {
   "cell_type": "markdown",
   "id": "d8657c42",
   "metadata": {},
   "source": [
    "# Building ML models"
   ]
  },
  {
   "cell_type": "code",
   "execution_count": 173,
   "id": "b9a7f950",
   "metadata": {},
   "outputs": [],
   "source": [
    "#test different models on data\n",
    "def compare_models(X_train, X_test, y_train, y_test):\n",
    "    d = {}\n",
    "    print('Difference in model accuracy')\n",
    "    # Create a Logistic Regression classifier\n",
    "    clf = LogisticRegression(random_state=16)\n",
    "    clf.fit(X_train, y_train)\n",
    "    y_pred = clf.predict(X_test)\n",
    "    accuracy = accuracy_score(y_test, y_pred)\n",
    "    k = \"Logistic regression\"\n",
    "    d[k] =  accuracy\n",
    "    print(k, accuracy)\n",
    "\n",
    "    # Create a KNN classifier\n",
    "    clf = KNeighborsClassifier()\n",
    "    clf.fit(X_train, y_train)\n",
    "    y_pred = clf.predict(X_test)\n",
    "    accuracy = accuracy_score(y_test, y_pred)\n",
    "    k = \"KNN\"\n",
    "    d[k] =  accuracy\n",
    "    print(k, accuracy)\n",
    "\n",
    "    # Create a Decision Tree classifier\n",
    "    clf = DecisionTreeClassifier()\n",
    "    clf.fit(X_train, y_train)\n",
    "    y_pred = clf.predict(X_test)\n",
    "    accuracy = accuracy_score(y_test, y_pred)\n",
    "    k = \"Decision tree\"\n",
    "    d[k] =  accuracy\n",
    "    print(k, accuracy)\n",
    "\n",
    "    # Create a Random Forest classifier\n",
    "    clf = RandomForestClassifier()\n",
    "    clf.fit(X_train, y_train)\n",
    "    y_pred = clf.predict(X_test)\n",
    "    accuracy = accuracy_score(y_test, y_pred)\n",
    "    k = \"Random forest\"\n",
    "    d[k] =  accuracy\n",
    "    print(k, accuracy)\n",
    "\n",
    "    #Create a Gradient Boosting classifier\n",
    "    clf = GradientBoostingClassifier()\n",
    "    clf.fit(X_train, y_train)\n",
    "    y_pred = clf.predict(X_test)\n",
    "    accuracy = accuracy_score(y_test, y_pred)\n",
    "    k = \"Gradient Boosting\"\n",
    "    d[k] =  accuracy\n",
    "    print(k, accuracy)\n",
    "\n",
    "    #Create an XGBoost classifier\n",
    "\n",
    "    params = {'objective': 'binary:logistic', 'max_depth': 3, 'learning_rate': 0.1}\n",
    "    clf = xgb.XGBClassifier(**params)\n",
    "    clf.fit(X_train, y_train)\n",
    "    y_pred = clf.predict(X_test)\n",
    "    accuracy = accuracy_score(y_test, y_pred)\n",
    "    k = \"XGBoost\"\n",
    "    d[k] =  accuracy\n",
    "    print(k, accuracy)\n",
    "    \n",
    "    max_k = max(d, key=lambda key: d[key])\n",
    "    print(\"Max is\", max_k, \"with\", d[max_k])\n"
   ]
  },
  {
   "cell_type": "code",
   "execution_count": 174,
   "id": "0e014c04",
   "metadata": {},
   "outputs": [],
   "source": [
    "#first pass at models\n",
    "X1_train, X1_test, y1_train, y1_test = train_test_split(X, y, test_size=0.2, random_state=16)"
   ]
  },
  {
   "cell_type": "code",
   "execution_count": 176,
   "id": "8b0f3c67",
   "metadata": {},
   "outputs": [
    {
     "name": "stdout",
     "output_type": "stream",
     "text": [
      "Original data with 0.2 test size, testing different models\n",
      "Difference in model accuracy\n"
     ]
    },
    {
     "name": "stderr",
     "output_type": "stream",
     "text": [
      "/opt/anaconda3/lib/python3.8/site-packages/sklearn/linear_model/_logistic.py:763: ConvergenceWarning: lbfgs failed to converge (status=1):\n",
      "STOP: TOTAL NO. of ITERATIONS REACHED LIMIT.\n",
      "\n",
      "Increase the number of iterations (max_iter) or scale the data as shown in:\n",
      "    https://scikit-learn.org/stable/modules/preprocessing.html\n",
      "Please also refer to the documentation for alternative solver options:\n",
      "    https://scikit-learn.org/stable/modules/linear_model.html#logistic-regression\n",
      "  n_iter_i = _check_optimize_result(\n"
     ]
    },
    {
     "name": "stdout",
     "output_type": "stream",
     "text": [
      "Logistic regression 0.930375\n",
      "KNN 0.9255\n",
      "Decision tree 0.914125\n",
      "Random forest 0.9345\n",
      "Gradient Boosting 0.936625\n",
      "XGBoost 0.93575\n",
      "Max is Gradient Boosting with 0.936625\n"
     ]
    }
   ],
   "source": [
    "print(\"Original data with 0.2 test size, testing different models\")\n",
    "compare_models(X1_train, X1_test, y1_train, y1_test)"
   ]
  },
  {
   "cell_type": "code",
   "execution_count": 96,
   "id": "6eed108a",
   "metadata": {},
   "outputs": [],
   "source": [
    "#try scaling data\n",
    "scaler = StandardScaler()\n",
    "X_scaled = scaler.fit_transform(data[feature_cols])\n",
    "\n",
    "X2_train, X2_test, y2_train, y2_test = train_test_split(X_scaled, y, test_size=0.2, random_state=16)"
   ]
  },
  {
   "cell_type": "code",
   "execution_count": 177,
   "id": "ebf0acd5",
   "metadata": {},
   "outputs": [
    {
     "name": "stdout",
     "output_type": "stream",
     "text": [
      "Scaled data with 0.2 test size\n",
      "Difference in model accuracy\n"
     ]
    },
    {
     "name": "stderr",
     "output_type": "stream",
     "text": [
      "/opt/anaconda3/lib/python3.8/site-packages/sklearn/linear_model/_logistic.py:763: ConvergenceWarning: lbfgs failed to converge (status=1):\n",
      "STOP: TOTAL NO. of ITERATIONS REACHED LIMIT.\n",
      "\n",
      "Increase the number of iterations (max_iter) or scale the data as shown in:\n",
      "    https://scikit-learn.org/stable/modules/preprocessing.html\n",
      "Please also refer to the documentation for alternative solver options:\n",
      "    https://scikit-learn.org/stable/modules/linear_model.html#logistic-regression\n",
      "  n_iter_i = _check_optimize_result(\n"
     ]
    },
    {
     "name": "stdout",
     "output_type": "stream",
     "text": [
      "Logistic regression 0.9312\n",
      "KNN 0.927\n",
      "Decision tree 0.9185\n",
      "Random forest 0.9378\n",
      "Gradient Boosting 0.9376\n",
      "XGBoost 0.9356\n",
      "Max is Random forest with 0.9378\n"
     ]
    }
   ],
   "source": [
    "print(\"Scaled data with 0.2 test size\")\n",
    "compare_models(X2_train, X2_test, y2_train, y2_test)"
   ]
  },
  {
   "cell_type": "code",
   "execution_count": 182,
   "id": "c9c30842",
   "metadata": {},
   "outputs": [
    {
     "name": "stdout",
     "output_type": "stream",
     "text": [
      "Average score:  0.9237500000000001\n"
     ]
    }
   ],
   "source": [
    "# Create a random forest classifier\n",
    "clf = RandomForestClassifier()\n",
    "\n",
    "# Define the number of folds\n",
    "n_folds = 5\n",
    "\n",
    "# Create a KFold object with the specified number of folds\n",
    "kf = KFold(n_splits=n_folds)\n",
    "\n",
    "# Perform k-fold cross-validation\n",
    "scores = cross_val_score(clf, X, y, cv=kf)\n",
    "\n",
    "# Print the average score across all folds\n",
    "print(\"Average score: \", np.mean(scores))\n"
   ]
  },
  {
   "cell_type": "markdown",
   "id": "b26b01ed",
   "metadata": {},
   "source": [
    "# Results\n",
    "First pass shows good prediction accuracy (93.78%)\n",
    "5fold cross validation on the best algorithm from the first pass (Random forest) gives an average score of 92.37%\n",
    "\n",
    "## To do\n",
    "\n",
    "Bonus(es):\n",
    "\n",
    "We are also interested in finding customers who are more likely to buy the investment product. Determine the segment(s) of customers our client should prioritize.\n",
    "\n",
    "What makes the customers buy? Tell us which feature we should be focusing more on."
   ]
  },
  {
   "cell_type": "code",
   "execution_count": null,
   "id": "4c1e648f",
   "metadata": {},
   "outputs": [],
   "source": []
  },
  {
   "cell_type": "code",
   "execution_count": null,
   "id": "55ac237f",
   "metadata": {},
   "outputs": [],
   "source": [
    "###### could also try dop features, see previous code"
   ]
  }
 ],
 "metadata": {
  "kernelspec": {
   "display_name": "Python 3",
   "language": "python",
   "name": "python3"
  },
  "language_info": {
   "codemirror_mode": {
    "name": "ipython",
    "version": 3
   },
   "file_extension": ".py",
   "mimetype": "text/x-python",
   "name": "python",
   "nbconvert_exporter": "python",
   "pygments_lexer": "ipython3",
   "version": "3.8.8"
  }
 },
 "nbformat": 4,
 "nbformat_minor": 5
}
